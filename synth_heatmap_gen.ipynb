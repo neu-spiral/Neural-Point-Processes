{
 "cells": [
  {
   "cell_type": "code",
   "execution_count": 1,
   "id": "8d18a09c-ed1e-4a6c-9f08-2a39fdb10dec",
   "metadata": {},
   "outputs": [
    {
     "name": "stderr",
     "output_type": "stream",
     "text": [
      "/home/ozcan.g/.conda/envs/satellite_gpu_env/lib/python3.10/site-packages/tqdm/auto.py:21: TqdmWarning: IProgress not found. Please update jupyter and ipywidgets. See https://ipywidgets.readthedocs.io/en/stable/user_install.html\n",
      "  from .autonotebook import tqdm as notebook_tqdm\n"
     ]
    }
   ],
   "source": [
    "import torchvision\n",
    "import torch\n",
    "\n",
    "import matplotlib.pyplot as plt\n",
    "import os\n",
    "import shutil\n",
    "from sklearn.metrics.pairwise import rbf_kernel\n",
    "from tools.models import DDPM, UNet\n",
    "from tools.data_utils import *\n",
    "from torchvision.io import read_image\n",
    "from torchvision import datasets, transforms\n",
    "from tqdm import tqdm\n",
    "import csv"
   ]
  },
  {
   "cell_type": "code",
   "execution_count": 2,
   "id": "b41df2a5-7262-4abe-8a54-8b4f8229d0dc",
   "metadata": {},
   "outputs": [],
   "source": [
    "n = 1000\n",
    "d1 = 28\n",
    "d2 = 28\n",
    "seed = 123456\n",
    "sigma = 10\n",
    "np.random.seed(seed)"
   ]
  },
  {
   "cell_type": "code",
   "execution_count": 3,
   "id": "12eff9d9-89af-4c15-a8c2-d0f5ff077267",
   "metadata": {},
   "outputs": [],
   "source": [
    "def del_and_create(folder_name):\n",
    "    # delete the data folder if it already exists\n",
    "    if os.path.exists(folder_name) and os.path.isdir(folder_name):\n",
    "        shutil.rmtree(folder_name)\n",
    "    \n",
    "    # create a new data folder\n",
    "    os.makedirs(f\"{folder_name}\")\n",
    "    return"
   ]
  },
  {
   "cell_type": "code",
   "execution_count": 4,
   "id": "4526f31e-d72e-4213-b968-baee495aef3f",
   "metadata": {},
   "outputs": [],
   "source": [
    "folder = \"Synthetic\"\n",
    "\n",
    "root_folder = f\"./data/{folder}/{d1}by{d2}pixels_{n}images_{seed}seed\"   \n",
    "image_folder = f\"./data/{folder}/{d1}by{d2}pixels_{n}images_{seed}seed/images\"\n",
    "\n",
    "del_and_create(root_folder)\n",
    "os.makedirs(image_folder)"
   ]
  },
  {
   "cell_type": "code",
   "execution_count": 5,
   "id": "2bfbe974-79e0-4728-9b90-8b81d638f364",
   "metadata": {},
   "outputs": [],
   "source": [
    "def f(P1, P2, c):\n",
    "        return c[0] * funcs[0](P1) ** c[1] + c[2] * funcs[1](c[3] + P2 * P1) * funcs[2](P1)"
   ]
  },
  {
   "cell_type": "code",
   "execution_count": 6,
   "id": "2d269523-8e93-4111-8003-dafd49333166",
   "metadata": {
    "tags": []
   },
   "outputs": [],
   "source": [
    "import warnings\n",
    "warnings.filterwarnings(\"ignore\")\n",
    "\n",
    "images = []\n",
    "\n",
    "for i in range(n):\n",
    "    #these will generate the images\n",
    "    c = np.random.randint(0, 10, size=4)\n",
    "    func_list = [np.sin, np.cos]\n",
    "    funcs = np.random.choice(func_list, 3)\n",
    "    p1 = np.linspace(0, 5, d1)\n",
    "    p2 = np.linspace(0, 5, d2)\n",
    "    P1, P2 = np.meshgrid(p1, p2, indexing='ij')\n",
    "    \n",
    "    z = f(P1, P2, c)\n",
    "    \n",
    "    # indexing check\n",
    "    # for i, vali in enumerate(p1):\n",
    "    #     for j, valj in enumerate(p2):\n",
    "    #         if z[i, j] != f(vali, valj):\n",
    "    #             print(\"not equal!\")\n",
    "    \n",
    "    fig = plt.figure(figsize=(7,7))\n",
    "    plt.imshow(z, origin='lower')  # http://brantr.github.io/blog/matplotlib-imshow-orientation/\n",
    "    plt.axis('off')\n",
    "    \n",
    "    img_name = f\"{i}\"\n",
    "    fig.savefig(f'{image_folder}/{img_name}.png', bbox_inches='tight', pad_inches=0)\n",
    "    image = read_image(f'{image_folder}/{img_name}.png')\n",
    "    image = transforms.functional.resize(image, size=(28, 28))\n",
    "        \n",
    "    plt.close()\n",
    "    \n",
    "    images.append(image)"
   ]
  },
  {
   "cell_type": "code",
   "execution_count": 7,
   "id": "88056efd-af71-42a5-bd7e-aced61dc4b0c",
   "metadata": {},
   "outputs": [],
   "source": [
    "# mean and covariance functions\n",
    "a = 3\n",
    "b = 0.5 # smaller b - small bias\n",
    "\n",
    "# nonlinear mean (quadratic)\n",
    "def quad_mean(p_1, p_2, z):\n",
    "    return a * z[(p_1, p_2)] ** 2 + b\n",
    "\n",
    "# linear mean\n",
    "def mean(p_1, p_2, z):\n",
    "    return a * z[(p_1, p_2)] + b\n",
    "\n",
    "# RBF kernel with a small width\n",
    "gamma = (1 / (sigma ** 2))\n",
    "def cov(p_1, p_2, gamma):\n",
    "    \"\"\"\n",
    "        K(p_1, p_2) = exp(-gamma ||p_1-p_2||^2)\n",
    "    \"\"\"\n",
    "    return rbf_kernel(p_1, p_2, gamma=gamma) # this should only depend on p1 and p2 - enforce continuity"
   ]
  },
  {
   "cell_type": "code",
   "execution_count": 8,
   "id": "b621f514-56a0-4e9a-b138-38c8ec3aec85",
   "metadata": {},
   "outputs": [],
   "source": [
    "def find_labels(pins):\n",
    "    # https://numpy.org/doc/stable/reference/random/generated/numpy.random.multivariate_normal.html\n",
    "    # .reshape(-1) converts a 2D matrix to a 1D vector (e.g. 100x1 --> 1x100)\n",
    "    mean_vec = mean(np.asarray(pins)[:, 1], np.asarray(pins)[:, 0], z)\n",
    "    cov_mat = cov(np.asarray(pins)[:, 1], np.asarray(pins)[:, 0], gamma)\n",
    "    min_eig = np.min(np.real(np.linalg.eigvals(cov_mat)))\n",
    "    if min_eig < 0:\n",
    "        cov_mat -= 10*min_eig * np.eye(*cov_mat.shape)\n",
    "    return np.random.default_rng().multivariate_normal(mean_vec.reshape(-1), cov_mat)"
   ]
  },
  {
   "cell_type": "code",
   "execution_count": 9,
   "id": "78b20225-1718-4399-b28d-b6b769617eec",
   "metadata": {},
   "outputs": [],
   "source": [
    "header = ['image', 'pins', 'outputs']\n",
    "def add_header(folder_name, header):\n",
    "    with open(f\"{folder_name}/pins.csv\", 'w') as file:\n",
    "        writer = csv.writer(file)\n",
    "        writer.writerow(header)"
   ]
  },
  {
   "cell_type": "code",
   "execution_count": 10,
   "id": "35fdf24a-5e26-4a11-b286-5db0984f5441",
   "metadata": {},
   "outputs": [],
   "source": [
    "def reformat(arr):\n",
    "    return [(i[0][0], i[1][0]) for i in arr]"
   ]
  },
  {
   "cell_type": "code",
   "execution_count": 11,
   "id": "eb52c595-b8d2-4388-802d-c5319ecd4c7d",
   "metadata": {},
   "outputs": [
    {
     "name": "stdout",
     "output_type": "stream",
     "text": [
      "Data and images have been saved to the CSV and image files.\n",
      "Data and images have been saved to the CSV and image files.\n"
     ]
    }
   ],
   "source": [
    "L = 10\n",
    "step = 10\n",
    "\n",
    "random_data_folder = f\"./data/{folder}/{d1}by{d2}pixels_{n}images_{seed}seed/random_{L}pins/\"\n",
    "mesh_data_folder = f\"./data/{folder}/{d1}by{d2}pixels_{n}images_{seed}seed/mesh_{step}step_pins/\"\n",
    "\n",
    "del_and_create(random_data_folder)\n",
    "del_and_create(mesh_data_folder)\n",
    "\n",
    "add_header(random_data_folder, header)\n",
    "add_header(mesh_data_folder, header)\n",
    "\n",
    "rand_pins = []\n",
    "grid_pins = []\n",
    "rand_labels = []\n",
    "grid_labels = []\n",
    "\n",
    "for i in range(n):\n",
    "\n",
    "    # Generate a list of all possible (x, y) coordinates\n",
    "    rand_p_1i = np.arange(0, d1, 1).reshape(-1, 1)\n",
    "    rand_p_2i = np.arange(0, d2, 1).reshape(-1, 1)\n",
    "    all_possible_pins = [(x.tolist(), y.tolist()) for x in rand_p_1i for y in rand_p_2i] # coordinates of the pins\n",
    "\n",
    "    # Shuffle the list to randomize the order\n",
    "    random.shuffle(all_possible_pins)\n",
    "\n",
    "    # Select the first n coordinates to ensure uniqueness\n",
    "    rand_p_i = all_possible_pins[:L]\n",
    "\n",
    "    grid_p_1i = np.arange(0, d1, step).reshape(-1, 1)\n",
    "    grid_p_2i = np.arange(0, d2, step).reshape(-1, 1)\n",
    "    grid_p_i = [(x.tolist(), y.tolist()) for x in grid_p_1i for y in grid_p_2i] # coordinates of the pins\n",
    "    grid_p_i = np.random.permutation(grid_p_i)\n",
    "    \n",
    "    rand_y_i = find_labels(rand_p_i)\n",
    "    grid_y_i = find_labels(grid_p_i)\n",
    "\n",
    "    rand_pins.append(reformat(rand_p_i))\n",
    "    grid_pins.append(reformat(grid_p_i))\n",
    "    rand_labels.append(rand_y_i.tolist())\n",
    "    grid_labels.append(grid_y_i.tolist())\n",
    "    \n",
    "save_data(images, rand_pins, rand_labels, f\"{root_folder}/\", random_data_folder, mode='ae')\n",
    "save_data(images, grid_pins, grid_labels, f\"{root_folder}/\", mesh_data_folder, mode='ae')"
   ]
  },
  {
   "cell_type": "code",
   "execution_count": 12,
   "id": "0f67ed89-ed64-43cd-9944-04398f893e87",
   "metadata": {},
   "outputs": [],
   "source": [
    "def plot_annotated_images(pins, labels):\n",
    "    fig = plt.figure(figsize=(7,7))\n",
    "    plt.imshow(z, origin='lower')  # http://brantr.github.io/blog/matplotlib-imshow-orientation/\n",
    "    plt.axis('off')\n",
    "    # img_name = f\"{0}.png\"    \n",
    "    # image = read_image(f'{image_folder}/{img_name}')\n",
    "    \n",
    "    plt.scatter(np.asarray(pins[0])[:, 0], np.asarray(pins[0])[:, 1], s=10, marker='.', c='r')\n",
    "    # pins[0] = reformat(pins[0])\n",
    "    for i in range(len(pins[0])):\n",
    "        plt.annotate(f'{labels[0][i]:.2f}', pins[0][i])"
   ]
  },
  {
   "cell_type": "code",
   "execution_count": 13,
   "id": "b4cae458-8cab-4655-96d7-18d00706b3c5",
   "metadata": {},
   "outputs": [
    {
     "data": {
      "image/png": "[encoded data removed]",
      "text/plain": [
       "<Figure size 700x700 with 1 Axes>"
      ]
     },
     "metadata": {},
     "output_type": "display_data"
    }
   ],
   "source": [
    "plot_annotated_images(grid_pins, grid_labels)"
   ]
  },
  {
   "cell_type": "code",
   "execution_count": 14,
   "id": "16a53609-13b1-407c-9781-3f8359807fe9",
   "metadata": {},
   "outputs": [
    {
     "data": {
      "image/png": "[encoded data removed]",
      "text/plain": [
       "<Figure size 700x700 with 1 Axes>"
      ]
     },
     "metadata": {},
     "output_type": "display_data"
    }
   ],
   "source": [
    "plot_annotated_images(rand_pins, rand_labels)"
   ]
  },
  {
   "cell_type": "code",
   "execution_count": 15,
   "id": "9bc647c7-acc8-4598-8be2-3fcea32190b1",
   "metadata": {},
   "outputs": [],
   "source": [
    "def extract_with_ddpm(data, n_steps, store_path):\n",
    "    device = torch.device(\"cuda\" if torch.cuda.is_available() else \"cpu\")\n",
    "    \n",
    "    # Load DDPM Model\n",
    "    ddpm = DDPM(UNet(input_channels=4), n_steps=n_steps, device=device)\n",
    "    ddpm.load_state_dict(torch.load(store_path, map_location=device))\n",
    "    \n",
    "    # Move input to the same device as the model\n",
    "    x0 = data.unsqueeze(0).to(device)\n",
    "    n = len(x0)\n",
    "\n",
    "    # Picking some noise for each of the images in the batch, a timestep, and the respective alpha_bars\n",
    "    eta = torch.randn_like(x0.float()).to(device)\n",
    "    t = torch.randint(0, n_steps, (n,)).to(device)\n",
    "\n",
    "    # Computing the noisy image based on x0 and the time-step (forward process)\n",
    "    # print(x0.shape)\n",
    "    noisy_imgs = ddpm(x0, t, eta)\n",
    "\n",
    "    # Getting model estimation of noise based on the images and the time-step\n",
    "    eta_theta, concatenated_feature_map = ddpm.backward(noisy_imgs, t.reshape(n, -1))\n",
    "\n",
    "    return concatenated_feature_map"
   ]
  },
  {
   "cell_type": "code",
   "execution_count": 16,
   "id": "f95a3fb0-43c4-46e2-bb2a-d73bbc9faabf",
   "metadata": {},
   "outputs": [],
   "source": [
    "ddpm_folder = \"Synthetic_ddpm\"\n",
    "n_steps = 1000\n",
    "store_path = f\"./history/ddpm_model_Synthetic.pt\"\n",
    "\n",
    "ddpm_root_folder = f\"./data/{ddpm_folder}/{d1}by{d2}pixels_{n}images_{seed}seed\"   \n",
    "ddpm_image_folder = f\"./data/{ddpm_folder}/{d1}by{d2}pixels_{n}images_{seed}seed/images\"\n",
    "\n",
    "del_and_create(ddpm_root_folder)\n",
    "os.makedirs(ddpm_image_folder)"
   ]
  },
  {
   "cell_type": "code",
   "execution_count": 17,
   "id": "0f20d6a4-54ee-4ca7-88a1-c872eda2d82f",
   "metadata": {},
   "outputs": [],
   "source": [
    "ddpm_images = []\n",
    "\n",
    "for i in range(n):\n",
    "    img_name = f\"{i}.png\"    \n",
    "    image = read_image(f'{image_folder}/{img_name}')\n",
    "    image = transforms.functional.resize(image, size=(28, 28))\n",
    "    \n",
    "    ddpm_image = extract_with_ddpm(image, n_steps, store_path)\n",
    "    ddpm_image = ddpm_image.squeeze()\n",
    "\n",
    "    ddpm_images.append(ddpm_image)"
   ]
  },
  {
   "cell_type": "code",
   "execution_count": 18,
   "id": "4da1b526-7427-472c-a4b3-803e32de9049",
   "metadata": {},
   "outputs": [],
   "source": [
    "random_data_folder = f\"./data/{ddpm_folder}/{d1}by{d2}pixels_{n}images_{seed}seed/random_{L}pins/\"\n",
    "mesh_data_folder = f\"./data/{ddpm_folder}/{d1}by{d2}pixels_{n}images_{seed}seed/mesh_{step}step_pins/\"\n",
    "\n",
    "del_and_create(random_data_folder)\n",
    "del_and_create(mesh_data_folder)"
   ]
  },
  {
   "cell_type": "code",
   "execution_count": 19,
   "id": "11f37e9e-69b6-4856-bc75-881124de81b5",
   "metadata": {},
   "outputs": [
    {
     "name": "stdout",
     "output_type": "stream",
     "text": [
      "Data and images have been saved to the CSV and image files.\n",
      "Data and images have been saved to the CSV and image files.\n"
     ]
    }
   ],
   "source": [
    "save_data(ddpm_images, rand_pins, rand_labels, f\"{ddpm_root_folder}/\", random_data_folder, mode='ddpm')\n",
    "save_data(ddpm_images, grid_pins, grid_labels, f\"{ddpm_root_folder}/\", mesh_data_folder, mode='ddpm')"
   ]
  },
  {
   "cell_type": "code",
   "execution_count": 20,
   "id": "c4ff9c2a-8b8d-48a2-a826-0d87432ec568",
   "metadata": {},
   "outputs": [
    {
     "name": "stdout",
     "output_type": "stream",
     "text": [
      "Data and images have been saved to the CSV and image files.\n",
      "Data and images have been saved to the CSV and image files.\n"
     ]
    }
   ],
   "source": [
    "L = 100\n",
    "step = 3\n",
    "\n",
    "random_data_folder = f\"./data/{folder}/{d1}by{d2}pixels_{n}images_{seed}seed/random_{L}pins/\"\n",
    "mesh_data_folder = f\"./data/{folder}/{d1}by{d2}pixels_{n}images_{seed}seed/mesh_{step}step_pins/\"\n",
    "\n",
    "del_and_create(random_data_folder)\n",
    "del_and_create(mesh_data_folder)\n",
    "\n",
    "add_header(random_data_folder, header)\n",
    "add_header(mesh_data_folder, header)\n",
    "\n",
    "rand_pins = []\n",
    "grid_pins = []\n",
    "rand_labels = []\n",
    "grid_labels = []\n",
    "\n",
    "for i in range(n):\n",
    "\n",
    "    # Generate a list of all possible (x, y) coordinates\n",
    "    rand_p_1i = np.arange(0, d1, 1).reshape(-1, 1)\n",
    "    rand_p_2i = np.arange(0, d2, 1).reshape(-1, 1)\n",
    "    all_possible_pins = [(x.tolist(), y.tolist()) for x in rand_p_1i for y in rand_p_2i] # coordinates of the pins\n",
    "\n",
    "    # Shuffle the list to randomize the order\n",
    "    random.shuffle(all_possible_pins)\n",
    "\n",
    "    # Select the first n coordinates to ensure uniqueness\n",
    "    rand_p_i = all_possible_pins[:L]\n",
    "\n",
    "    grid_p_1i = np.arange(0, d1, step).reshape(-1, 1)\n",
    "    grid_p_2i = np.arange(0, d2, step).reshape(-1, 1)\n",
    "    grid_p_i = [(x.tolist(), y.tolist()) for x in grid_p_1i for y in grid_p_2i] # coordinates of the pins\n",
    "    grid_p_i = np.random.permutation(grid_p_i)\n",
    "    \n",
    "    rand_y_i = find_labels(rand_p_i)\n",
    "    grid_y_i = find_labels(grid_p_i)\n",
    "\n",
    "    rand_pins.append(reformat(rand_p_i))\n",
    "    grid_pins.append(reformat(grid_p_i))\n",
    "    rand_labels.append(rand_y_i.tolist())\n",
    "    grid_labels.append(grid_y_i.tolist())\n",
    "    \n",
    "save_data(images, rand_pins, rand_labels, f\"{root_folder}/\", random_data_folder, mode='ae')\n",
    "save_data(images, grid_pins, grid_labels, f\"{root_folder}/\", mesh_data_folder, mode='ae')"
   ]
  },
  {
   "cell_type": "code",
   "execution_count": 21,
   "id": "1938478f-bba1-4750-9513-9539c9051c90",
   "metadata": {},
   "outputs": [],
   "source": [
    "random_data_folder = f\"./data/{ddpm_folder}/{d1}by{d2}pixels_{n}images_{seed}seed/random_{L}pins/\"\n",
    "mesh_data_folder = f\"./data/{ddpm_folder}/{d1}by{d2}pixels_{n}images_{seed}seed/mesh_{step}step_pins/\"\n",
    "\n",
    "del_and_create(random_data_folder)\n",
    "del_and_create(mesh_data_folder)"
   ]
  },
  {
   "cell_type": "code",
   "execution_count": 22,
   "id": "ca459e02-4111-4997-ab6e-81b903268ba6",
   "metadata": {},
   "outputs": [
    {
     "name": "stdout",
     "output_type": "stream",
     "text": [
      "Data and images have been saved to the CSV and image files.\n",
      "Data and images have been saved to the CSV and image files.\n"
     ]
    }
   ],
   "source": [
    "save_data(ddpm_images, rand_pins, rand_labels, f\"{ddpm_root_folder}/\", random_data_folder, mode='ddpm')\n",
    "save_data(ddpm_images, grid_pins, grid_labels, f\"{ddpm_root_folder}/\", mesh_data_folder, mode='ddpm')"
   ]
  }
 ],
 "metadata": {
  "kernelspec": {
   "display_name": "Python 3 (ipykernel)",
   "language": "python",
   "name": "python3"
  },
  "language_info": {
   "codemirror_mode": {
    "name": "ipython",
    "version": 3
   },
   "file_extension": ".py",
   "mimetype": "text/x-python",
   "name": "python",
   "nbconvert_exporter": "python",
   "pygments_lexer": "ipython3",
   "version": "3.10.13"
  }
 },
 "nbformat": 4,
 "nbformat_minor": 5
}
