{
 "cells": [
  {
   "cell_type": "code",
   "execution_count": 1,
   "id": "8d18a09c-ed1e-4a6c-9f08-2a39fdb10dec",
   "metadata": {},
   "outputs": [],
   "source": [
    "import plotly.graph_objects as go\n",
    "import numpy as np\n",
    "import pickle\n",
    "import math\n",
    "import matplotlib.pyplot as plt\n",
    "import os\n",
    "import shutil\n",
    "from sklearn.metrics.pairwise import rbf_kernel\n",
    "import csv"
   ]
  },
  {
   "cell_type": "code",
   "execution_count": 2,
   "id": "b41df2a5-7262-4abe-8a54-8b4f8229d0dc",
   "metadata": {},
   "outputs": [],
   "source": [
    "n = 100\n",
    "d1 = 28\n",
    "d2 = 28\n",
    "L = 100\n",
    "step = 10\n",
    "seed = 4\n",
    "pins_random = False\n",
    "sigma = 10\n",
    "np.random.seed(seed)"
   ]
  },
  {
   "cell_type": "code",
   "execution_count": 3,
   "id": "4526f31e-d72e-4213-b968-baee495aef3f",
   "metadata": {},
   "outputs": [],
   "source": [
    "if pins_random:\n",
    "    data_folder = f\"./data/Synthetic_{n}images_{d1}by{d2}pixels_upto{L}pins_{seed}seed/\"\n",
    "else:\n",
    "    data_folder = f\"./data/Synthetic_{n}images_{d1}by{d2}pixels_{step}_distanced_grid_pins_{seed}seed/\"\n",
    "\n",
    "# delete the data folder if it already exists\n",
    "if os.path.exists(data_folder) and os.path.isdir(data_folder):\n",
    "    shutil.rmtree(data_folder)\n",
    "    \n",
    "# create a new data folder\n",
    "os.makedirs(f\"{data_folder}images\")"
   ]
  },
  {
   "cell_type": "code",
   "execution_count": 4,
   "id": "0ad8b212-c4cd-4c49-8e1b-056a4e8eec7e",
   "metadata": {},
   "outputs": [
    {
     "name": "stdout",
     "output_type": "stream",
     "text": [
      "Mon Nov 27 00:19:01 2023       \n",
      "+---------------------------------------------------------------------------------------+\n",
      "| NVIDIA-SMI 530.30.02              Driver Version: 530.30.02    CUDA Version: 12.1     |\n",
      "|-----------------------------------------+----------------------+----------------------+\n",
      "| GPU  Name                  Persistence-M| Bus-Id        Disp.A | Volatile Uncorr. ECC |\n",
      "| Fan  Temp  Perf            Pwr:Usage/Cap|         Memory-Usage | GPU-Util  Compute M. |\n",
      "|                                         |                      |               MIG M. |\n",
      "|=========================================+======================+======================|\n",
      "|   0  Tesla V100-SXM2-32GB            Off| 00000000:86:00.0 Off |                    0 |\n",
      "| N/A   36C    P0               55W / 300W|      0MiB / 32768MiB |      1%      Default |\n",
      "|                                         |                      |                  N/A |\n",
      "+-----------------------------------------+----------------------+----------------------+\n",
      "                                                                                         \n",
      "+---------------------------------------------------------------------------------------+\n",
      "| Processes:                                                                            |\n",
      "|  GPU   GI   CI        PID   Type   Process name                            GPU Memory |\n",
      "|        ID   ID                                                             Usage      |\n",
      "|=======================================================================================|\n",
      "|  No running processes found                                                           |\n",
      "+---------------------------------------------------------------------------------------+\n"
     ]
    }
   ],
   "source": [
    "!nvidia-smi"
   ]
  },
  {
   "cell_type": "code",
   "execution_count": 5,
   "id": "88056efd-af71-42a5-bd7e-aced61dc4b0c",
   "metadata": {},
   "outputs": [],
   "source": [
    "# mean and covariance functions\n",
    "a = 3\n",
    "b = 0.5 # smaller b - small bias\n",
    "\n",
    "# nonlinear mean (quadratic)\n",
    "def quad_mean(p_1, p_2, z):\n",
    "    return a * z[(p_1, p_2)] ** 2 + b\n",
    "\n",
    "# linear mean\n",
    "def mean(p_1, p_2, z):\n",
    "    return a * z[(p_1, p_2)] + b\n",
    "\n",
    "# RBF kernel with a small width\n",
    "gamma = (1 / (sigma ** 2))\n",
    "def cov(p_1, p_2, gamma):\n",
    "    \"\"\"\n",
    "        K(p_1, p_2) = exp(-gamma ||p_1-p_2||^2)\n",
    "    \"\"\"\n",
    "    return rbf_kernel(p_1, p_2, gamma=gamma) # this should only depend on p1 and p2 - enforce continuity"
   ]
  },
  {
   "cell_type": "code",
   "execution_count": 6,
   "id": "7fb49596-c86d-4e01-b535-47dfa1fae199",
   "metadata": {},
   "outputs": [],
   "source": [
    "def show_pins(image, pins, outputs):\n",
    "    \"\"\"Show image with pins\"\"\"\n",
    "    plt.imshow(image, extent=[0,d1,0,d2])\n",
    "    plt.scatter(pins[:, 0], pins[:, 1], s=10, marker='.', c='r')"
   ]
  },
  {
   "cell_type": "code",
   "execution_count": 7,
   "id": "78b20225-1718-4399-b28d-b6b769617eec",
   "metadata": {},
   "outputs": [],
   "source": [
    "header = ['image', 'pins', 'outputs']\n",
    "with open(f\"{data_folder}/pins.csv\", 'w') as file:\n",
    "    writer = csv.writer(file)\n",
    "    writer.writerow(header)"
   ]
  },
  {
   "cell_type": "code",
   "execution_count": 8,
   "id": "35fdf24a-5e26-4a11-b286-5db0984f5441",
   "metadata": {},
   "outputs": [],
   "source": [
    "def reformat(arr):\n",
    "    return [(i[0][0], i[1][0]) for i in arr]"
   ]
  },
  {
   "cell_type": "code",
   "execution_count": 9,
   "id": "2d269523-8e93-4111-8003-dafd49333166",
   "metadata": {
    "tags": []
   },
   "outputs": [
    {
     "ename": "NameError",
     "evalue": "name 'min_eig' is not defined",
     "output_type": "error",
     "traceback": [
      "\u001b[0;31m---------------------------------------------------------------------------\u001b[0m",
      "\u001b[0;31mNameError\u001b[0m                                 Traceback (most recent call last)",
      "Input \u001b[0;32mIn [9]\u001b[0m, in \u001b[0;36m<cell line: 1>\u001b[0;34m()\u001b[0m\n\u001b[1;32m     54\u001b[0m cov_mat \u001b[38;5;241m=\u001b[39m ensure_positive_semidefinite(cov_mat, threshold\u001b[38;5;241m=\u001b[39m\u001b[38;5;241m1e-5\u001b[39m)\n\u001b[1;32m     56\u001b[0m \u001b[38;5;66;03m# this should correct the potential negative eigenvalues due to floating errors\u001b[39;00m\n\u001b[1;32m     57\u001b[0m \u001b[38;5;66;03m# min_eig = np.min(np.real(np.linalg.eigvals(cov_mat)))\u001b[39;00m\n\u001b[0;32m---> 58\u001b[0m \u001b[38;5;28;01mif\u001b[39;00m \u001b[43mmin_eig\u001b[49m \u001b[38;5;241m<\u001b[39m \u001b[38;5;241m0\u001b[39m:\n\u001b[1;32m     59\u001b[0m     \u001b[38;5;66;03m# cov_mat -= 100*min_eig * np.eye(*cov_mat.shape)\u001b[39;00m\n\u001b[1;32m     60\u001b[0m     \u001b[38;5;28mprint\u001b[39m(\u001b[38;5;124m\"\u001b[39m\u001b[38;5;124mmin eig < 0\u001b[39m\u001b[38;5;124m\"\u001b[39m)\n\u001b[1;32m     61\u001b[0m \u001b[38;5;66;03m# Calculate eigenvalues\u001b[39;00m\n",
      "\u001b[0;31mNameError\u001b[0m: name 'min_eig' is not defined"
     ]
    },
    {
     "data": {
      "image/png": "[encoded data removed]",
      "text/plain": [
       "<Figure size 504x504 with 1 Axes>"
      ]
     },
     "metadata": {
      "needs_background": "light"
     },
     "output_type": "display_data"
    }
   ],
   "source": [
    "for i in range(n):\n",
    "    #these will generate the images\n",
    "    c = np.random.randint(0, 10, size=4)\n",
    "    func_list = [np.sin, np.cos]\n",
    "    funcs = np.random.choice(func_list, 3)\n",
    "    p1 = np.linspace(0, 5, d1)\n",
    "    p2 = np.linspace(0, 5, d2)\n",
    "    P1, P2 = np.meshgrid(p1, p2, indexing='ij')\n",
    "    \n",
    "    def f(P1, P2):\n",
    "        return c[0] * funcs[0](P1) ** c[1] + c[2] * funcs[1](c[3] + P2 * P1) * funcs[2](P1)\n",
    "    \n",
    "    z = f(P1, P2)\n",
    "    \n",
    "    # indexing check\n",
    "    # for i, vali in enumerate(p1):\n",
    "    #     for j, valj in enumerate(p2):\n",
    "    #         if z[i, j] != f(vali, valj):\n",
    "    #             print(\"not equal!\")\n",
    "    \n",
    "    fig = plt.figure(figsize=(7,7))\n",
    "    plt.imshow(z, origin='lower')  # http://brantr.github.io/blog/matplotlib-imshow-orientation/\n",
    "    plt.axis('off')\n",
    "    \n",
    "    img_name = f\"{i}.png\"    \n",
    "    fig.savefig(f'{data_folder}/images/{img_name}', bbox_inches='tight', pad_inches=0)\n",
    "    \n",
    "    if pins_random:\n",
    "        # choose how many pins to sample\n",
    "        L_i = np.random.randint(1, L)\n",
    "\n",
    "        # coordinates of the random pins\n",
    "        p_1i = np.random.randint(d1, size=(L_i, 1))\n",
    "        p_2i = np.random.randint(d2, size=(L_i, 1))\n",
    "        # p_i = np.concatenate((p_1i, p_2i), axis=1) # coordinates of the pins\n",
    "        p_i = list(zip(p_1i.reshape(L_i).tolist(), p_2i.reshape(L_i).tolist())) # coordinates of the pins\n",
    "    else:\n",
    "        # coordinates of the mesh pins\n",
    "        p_1i = np.arange(0, d1, step).reshape(-1, 1)\n",
    "        p_2i = np.arange(0, d2, step).reshape(-1, 1)\n",
    "        p_i = [(x.tolist(), y.tolist()) for x in p_1i for y in p_2i] # coordinates of the pins\n",
    "    \n",
    "    mean_vec = mean(np.asarray(p_i)[:, 1], np.asarray(p_i)[:, 0], z)\n",
    "    \n",
    "    cov_mat = cov(np.asarray(p_i)[:, 1], np.asarray(p_i)[:, 0], gamma)\n",
    "    # Ensure positive-semidefinite covariance matrix\n",
    "    def ensure_positive_semidefinite(mat, threshold=1e-5):\n",
    "        min_eig = np.min(np.real(np.linalg.eigvals(mat)))\n",
    "        if min_eig < threshold:\n",
    "            mat -= (min_eig - threshold) * np.eye(*mat.shape)\n",
    "        return mat\n",
    "\n",
    "    # Adjust the covariance matrix\n",
    "    cov_mat = ensure_positive_semidefinite(cov_mat, threshold=1e-5)\n",
    "    \n",
    "    # this should correct the potential negative eigenvalues due to floating errors\n",
    "    # min_eig = np.min(np.real(np.linalg.eigvals(cov_mat)))\n",
    "    if min_eig < 0:\n",
    "        # cov_mat -= 100*min_eig * np.eye(*cov_mat.shape)\n",
    "        print(\"min eig < 0\")\n",
    "    # Calculate eigenvalues\n",
    "    eigenvalues = np.linalg.eigvals(cov_mat)\n",
    "    \n",
    "    print(\"Eigenvalues:\", eigenvalues)\n",
    "    # https://numpy.org/doc/stable/reference/random/generated/numpy.random.multivariate_normal.html\n",
    "    # .reshape(-1) converts a 2D matrix to a 1D vector (e.g. 100x1 --> 1x100)\n",
    "    y_i = np.random.default_rng().multivariate_normal(mean_vec.reshape(-1), cov_mat)  \n",
    "    \n",
    "    # describe the dataset somewhere (latex)\n",
    "    plt.scatter(np.asarray(p_i)[:, 0], np.asarray(p_i)[:, 1], s=10, marker='.', c='r')\n",
    "    p_i = reformat(p_i)\n",
    "    for i in range(len(p_i)):\n",
    "        plt.annotate(f'{y_i[i]:.2f}', p_i[i])\n",
    "    # print(np.shape(y_i))\n",
    "\n",
    "    with open(f\"{data_folder}/pins.csv\", 'a', newline='') as file:\n",
    "        writer = csv.writer(file)\n",
    "        writer.writerow([img_name, p_i, y_i.tolist()])"
   ]
  },
  {
   "cell_type": "code",
   "execution_count": null,
   "id": "a6daf061-a102-4fbf-bc3a-e61b11358fdd",
   "metadata": {},
   "outputs": [],
   "source": [
    "fig = plt.figure(figsize=(7,7))\n",
    "# ax = fig.add_subplot(131, title='imshow: square bins')\n",
    "plt.imshow(z, origin='lower')\n",
    "plt.colorbar()\n",
    "fig.canvas.draw()\n",
    "\n",
    "# grab the pixel buffer and dump it into a numpy array\n",
    "X = np.array(fig.canvas.renderer.buffer_rgba())\n",
    "print(z.shape, X.shape)\n",
    "# saving an image using the imsave function\n",
    "plt.imsave('sample.png', X)"
   ]
  },
  {
   "cell_type": "code",
   "execution_count": null,
   "id": "8df55bfe-d1ad-4efb-a07a-7fce751f7aec",
   "metadata": {},
   "outputs": [],
   "source": [
    "from scipy.stats import multivariate_normal\n",
    "\n",
    "p_1 = np.array(range(0, d1))\n",
    "p_2 = np.array(range(0, d2))\n",
    "print(np.shape(z))\n",
    "full_mean = mean(p_1, p_2, z)\n",
    "print(np.shape(full_mean))\n",
    "full_cov = cov(p_1.reshape(-1, 1), p_2.reshape(-1, 1), gamma)\n",
    "print(np.shape(full_cov))\n",
    "\n",
    "y = multivariate_normal(full_mean, full_cov, allow_singular=True)\n",
    "print(y.pdf(z))"
   ]
  },
  {
   "cell_type": "code",
   "execution_count": null,
   "id": "5ac24a72-ae57-466a-9c5d-22e7a14edec6",
   "metadata": {},
   "outputs": [],
   "source": [
    "fig = plt.figure()\n",
    "ax = plt.axes(projection='3d')\n",
    "ax.contour3D(P1, P2, z, 50)\n",
    "ax.set_xlabel('P1')\n",
    "ax.set_ylabel('P2')\n",
    "ax.set_zlabel('z')\n",
    "ax.set_title('3D contour')\n",
    "plt.show()"
   ]
  },
  {
   "cell_type": "code",
   "execution_count": null,
   "id": "4066bdb0-7d3c-4957-96eb-c7af6e9bd282",
   "metadata": {},
   "outputs": [],
   "source": [
    "layout = go.Layout(width=500, height=500)\n",
    "\n",
    "fig = go.Figure(go.Histogram2d(\n",
    "        x=p1,\n",
    "        y=p2,\n",
    "        texttemplate= \"%{z}\",\n",
    "    ), layout=layout) #, layout_xaxis_range=[-5, 5], layout_yaxis_range=[-5, 5])\n",
    "fig.show()"
   ]
  }
 ],
 "metadata": {
  "kernelspec": {
   "display_name": "Python 3 (ipykernel)",
   "language": "python",
   "name": "python3"
  },
  "language_info": {
   "codemirror_mode": {
    "name": "ipython",
    "version": 3
   },
   "file_extension": ".py",
   "mimetype": "text/x-python",
   "name": "python",
   "nbconvert_exporter": "python",
   "pygments_lexer": "ipython3",
   "version": "3.9.12"
  }
 },
 "nbformat": 4,
 "nbformat_minor": 5
}
