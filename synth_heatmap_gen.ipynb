{
 "cells": [
  {
   "cell_type": "code",
   "execution_count": 5,
   "id": "8d18a09c-ed1e-4a6c-9f08-2a39fdb10dec",
   "metadata": {},
   "outputs": [],
   "source": [
    "import plotly.graph_objects as go\n",
    "import numpy as np\n",
    "import pickle\n",
    "import math\n",
    "import matplotlib.pyplot as plt\n",
    "import os\n",
    "import shutil\n",
    "from sklearn.metrics.pairwise import rbf_kernel\n",
    "import csv"
   ]
  },
  {
   "cell_type": "code",
   "execution_count": 6,
   "id": "b41df2a5-7262-4abe-8a54-8b4f8229d0dc",
   "metadata": {},
   "outputs": [],
   "source": [
    "n = 100\n",
    "d1 = 100\n",
    "d2 = 100\n",
    "L = 10\n",
    "step = 10\n",
    "seed = 4\n",
    "mesh = True\n",
    "np.random.seed(seed)"
   ]
  },
  {
   "cell_type": "code",
   "execution_count": 7,
   "id": "4526f31e-d72e-4213-b968-baee495aef3f",
   "metadata": {},
   "outputs": [],
   "source": [
    "if mesh:\n",
    "    data_folder = f\"./data/Synthetic_{n}images_mesh_{step}step_{d1}by{d2}pixels_{seed}seed/\"\n",
    "else:\n",
    "    data_folder = f\"./data/Synthetic_{n}images_random_upto{L}pins_{d1}by{d2}pixels_{seed}seed/\"\n",
    "\n",
    "    # delete the data folder if it already exists\n",
    "if os.path.exists(data_folder) and os.path.isdir(data_folder):\n",
    "    shutil.rmtree(data_folder)\n",
    "    \n",
    "# create a new data folder\n",
    "os.makedirs(f\"{data_folder}images\")"
   ]
  },
  {
   "cell_type": "code",
   "execution_count": 8,
   "id": "88056efd-af71-42a5-bd7e-aced61dc4b0c",
   "metadata": {},
   "outputs": [],
   "source": [
    "# mean and covariance functions\n",
    "a = 3\n",
    "b = 12\n",
    "\n",
    "# linear mean\n",
    "def mean(p_1, p_2, z):\n",
    "    return a * z[(p_1, p_2)] + b\n",
    "\n",
    "# RBF kernel\n",
    "def cov(p_1, p_2, z):\n",
    "    return rbf_kernel(z[(p_1, p_2)])"
   ]
  },
  {
   "cell_type": "code",
   "execution_count": 9,
   "id": "2d269523-8e93-4111-8003-dafd49333166",
   "metadata": {},
   "outputs": [
    {
     "ename": "NameError",
     "evalue": "name 'L_i' is not defined",
     "output_type": "error",
     "traceback": [
      "\u001b[0;31m---------------------------------------------------------------------------\u001b[0m",
      "\u001b[0;31mNameError\u001b[0m                                 Traceback (most recent call last)",
      "Input \u001b[0;32mIn [9]\u001b[0m, in \u001b[0;36m<cell line: 11>\u001b[0;34m()\u001b[0m\n\u001b[1;32m     58\u001b[0m mean_vec \u001b[38;5;241m=\u001b[39m mean(p_1i, p_2i, z)\n\u001b[1;32m     59\u001b[0m cov_mat \u001b[38;5;241m=\u001b[39m cov(p_1i, p_2i, z)\n\u001b[0;32m---> 61\u001b[0m y_i \u001b[38;5;241m=\u001b[39m np\u001b[38;5;241m.\u001b[39mrandom\u001b[38;5;241m.\u001b[39mmultivariate_normal(mean_vec\u001b[38;5;241m.\u001b[39mreshape(\u001b[43mL_i\u001b[49m), cov_mat)\n\u001b[1;32m     63\u001b[0m \u001b[38;5;28;01mwith\u001b[39;00m \u001b[38;5;28mopen\u001b[39m(\u001b[38;5;124mf\u001b[39m\u001b[38;5;124m\"\u001b[39m\u001b[38;5;132;01m{\u001b[39;00mdata_folder\u001b[38;5;132;01m}\u001b[39;00m\u001b[38;5;124m/pins.csv\u001b[39m\u001b[38;5;124m\"\u001b[39m, \u001b[38;5;124m'\u001b[39m\u001b[38;5;124ma\u001b[39m\u001b[38;5;124m'\u001b[39m, newline\u001b[38;5;241m=\u001b[39m\u001b[38;5;124m'\u001b[39m\u001b[38;5;124m'\u001b[39m) \u001b[38;5;28;01mas\u001b[39;00m file:\n\u001b[1;32m     64\u001b[0m     writer \u001b[38;5;241m=\u001b[39m csv\u001b[38;5;241m.\u001b[39mwriter(file)\n",
      "\u001b[0;31mNameError\u001b[0m: name 'L_i' is not defined"
     ]
    }
   ],
   "source": [
    "header = ['image', 'pins', 'outputs']\n",
    "with open(f\"{data_folder}/pins.csv\", 'w') as file:\n",
    "    writer = csv.writer(file)\n",
    "    writer.writerow(header)\n",
    "\n",
    "# y_header = ['image', 'outputs']\n",
    "# with open(f\"{data_folder}/y.csv\", 'w') as file:\n",
    "#     y_writer = csv.writer(file)\n",
    "#     y_writer.writerow(y_header)\n",
    "\n",
    "for i in range(n):\n",
    "    #these will generate the images\n",
    "    c = np.random.randint(0, 10, size=4)\n",
    "    func_list = [np.sin, np.cos]\n",
    "    funcs = np.random.choice(func_list, 3)\n",
    "    p1 = np.linspace(0, 5, d1)\n",
    "    p2 = np.linspace(0, 5, d2)\n",
    "    P1, P2 = np.meshgrid(p1, p2, indexing='ij')\n",
    "    \n",
    "    def f(P1, P2):\n",
    "        return c[0] * funcs[0](P1) ** c[1] + c[2] * funcs[1](c[3] + P2 * P1) * funcs[2](P1)\n",
    "    \n",
    "    z = f(P1, P2)\n",
    "    \n",
    "    # indexing check\n",
    "    # for i, vali in enumerate(p1):\n",
    "    #     for j, valj in enumerate(p2):\n",
    "    #         if z[i, j] != f(vali, valj):\n",
    "    #             print(\"not equal!\")\n",
    "    \n",
    "    fig = plt.figure(figsize=(7,7))\n",
    "    plt.imshow(z) #, interpolation='nearest', origin='lower')\n",
    "    # plt.colorbar()\n",
    "    plt.axis('off')\n",
    "    \n",
    "    img_name = f\"{i}.png\"    \n",
    "    fig.savefig(f'{data_folder}/images/{img_name}', bbox_inches='tight', pad_inches=0)\n",
    "\n",
    "    plt.close()\n",
    "    \n",
    "    if mesh:\n",
    "        # coordinates of the mesh pins\n",
    "        p_1i = np.arange(0, d1, step).reshape(-1, 1)\n",
    "        p_2i = np.arange(0, d2, step).reshape(-1, 1)\n",
    "        p_i = [(x.tolist(), y.tolist()) for x in p_1i for y in p_2i] # coordinates of the pins\n",
    "              \n",
    "    else:\n",
    "        # choose how many pins to sample\n",
    "        L_i = np.random.randint(1, L)\n",
    "\n",
    "        # coordinates of the random pins\n",
    "        p_1i = np.random.randint(d1, size=(L_i, 1))\n",
    "        p_2i = np.random.randint(d2, size=(L_i, 1))\n",
    "        # p_i = np.concatenate((p_1i, p_2i), axis=1) # coordinates of the pins\n",
    "        p_i = list(zip(p_1i.reshape(L_i).tolist(), p_2i.reshape(L_i).tolist())) # coordinates of the pins\n",
    "        \n",
    "    \n",
    "    mean_vec = mean(p_1i, p_2i, z)\n",
    "    cov_mat = cov(p_1i, p_2i, z)\n",
    "    \n",
    "    y_i = np.random.multivariate_normal(mean_vec.reshape(L_i), cov_mat)\n",
    "\n",
    "    with open(f\"{data_folder}/pins.csv\", 'a', newline='') as file:\n",
    "        writer = csv.writer(file)\n",
    "        writer.writerow([img_name, p_i, y_i.tolist()])"
   ]
  },
  {
   "cell_type": "code",
   "execution_count": null,
   "id": "8df55bfe-d1ad-4efb-a07a-7fce751f7aec",
   "metadata": {},
   "outputs": [],
   "source": [
    "from scipy.stats import multivariate_normal\n",
    "\n",
    "p_1 = np.array(range(0, d1))\n",
    "p_2 = np.array(range(0, d2))\n",
    "# print(np.shape(z))\n",
    "full_mean = mean(p_1, p_2, z)\n",
    "# print(np.shape(full_mean))\n",
    "full_cov = cov(p_1.reshape(-1, 1), p_2.reshape(-1, 1), z)\n",
    "# print(np.shape(full_cov))\n",
    "\n",
    "y = multivariate_normal(full_mean, full_cov, allow_singular=True)\n",
    "# print(np.shape(y.pdf(z)))"
   ]
  },
  {
   "cell_type": "code",
   "execution_count": null,
   "id": "a6daf061-a102-4fbf-bc3a-e61b11358fdd",
   "metadata": {},
   "outputs": [],
   "source": [
    "fig = plt.figure(figsize=(7,7))\n",
    "# ax = fig.add_subplot(131, title='imshow: square bins')\n",
    "plt.imshow(z, interpolation='nearest', origin='lower')\n",
    "plt.colorbar()\n",
    "fig.canvas.draw()\n",
    "\n",
    "# grab the pixel buffer and dump it into a numpy array\n",
    "X = np.array(fig.canvas.renderer.buffer_rgba())\n",
    "print(z.shape, X.shape)\n",
    "# saving an image using the imsave function\n",
    "plt.imsave('sample.png', X)"
   ]
  },
  {
   "cell_type": "code",
   "execution_count": null,
   "id": "5ac24a72-ae57-466a-9c5d-22e7a14edec6",
   "metadata": {},
   "outputs": [],
   "source": [
    "fig = plt.figure()\n",
    "ax = plt.axes(projection='3d')\n",
    "ax.contour3D(P1, P2, z, 50)\n",
    "ax.set_xlabel('P1')\n",
    "ax.set_ylabel('P2')\n",
    "ax.set_zlabel('z')\n",
    "ax.set_title('3D contour')\n",
    "plt.show()"
   ]
  },
  {
   "cell_type": "code",
   "execution_count": null,
   "id": "4066bdb0-7d3c-4957-96eb-c7af6e9bd282",
   "metadata": {},
   "outputs": [],
   "source": [
    "layout = go.Layout(width=500, height=500)\n",
    "\n",
    "fig = go.Figure(go.Histogram2d(\n",
    "        x=p1,\n",
    "        y=p2,\n",
    "        texttemplate= \"%{z}\",\n",
    "    ), layout=layout) #, layout_xaxis_range=[-5, 5], layout_yaxis_range=[-5, 5])\n",
    "fig.show()"
   ]
  }
 ],
 "metadata": {
  "kernelspec": {
   "display_name": "Python 3 (ipykernel)",
   "language": "python",
   "name": "python3"
  },
  "language_info": {
   "codemirror_mode": {
    "name": "ipython",
    "version": 3
   },
   "file_extension": ".py",
   "mimetype": "text/x-python",
   "name": "python",
   "nbconvert_exporter": "python",
   "pygments_lexer": "ipython3",
   "version": "3.9.12"
  }
 },
 "nbformat": 4,
 "nbformat_minor": 5
}
