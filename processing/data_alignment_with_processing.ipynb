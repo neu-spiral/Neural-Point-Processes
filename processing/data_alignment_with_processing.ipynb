{
 "cells": [
  {
   "cell_type": "code",
   "execution_count": 1,
   "id": "47a7d868",
   "metadata": {
    "ExecuteTime": {
     "end_time": "2024-02-23T17:42:50.650533Z",
     "start_time": "2024-02-23T17:42:50.162142Z"
    }
   },
   "outputs": [],
   "source": [
    "import os\n",
    "from os.path import dirname as up\n",
    "import math\n",
    "import glob\n",
    "import random\n",
    "import numpy as np\n",
    "import pandas as pd\n",
    "import rasterio as rio\n",
    "from rasterio.windows import Window, get_data_window\n",
    "import matplotlib.pyplot as plt\n",
    "import geopandas\n",
    "from shapely.geometry import Polygon, MultiPolygon\n",
    "import pyproj\n",
    "import shapely.ops\n",
    "from shapely.geometry import shape\n",
    "from geopandas import GeoSeries\n",
    "import time\n",
    "import sys\n",
    "# Get the parent directory\n",
    "sys.path.append('..')\n",
    "from tools.building_data_utils import *\n",
    "# random.seed(10)"
   ]
  },
  {
   "cell_type": "code",
   "execution_count": null,
   "id": "116d92dc-73b9-4e69-899f-7fa5ef7cc6fe",
   "metadata": {
    "tags": []
   },
   "outputs": [],
   "source": [
    "# import pandas as pd\n",
    "# import random\n",
    "# import ast\n",
    "\n",
    "# n=225\n",
    "# d=63\n",
    "# filename = f'./Processed/Building_1000_PS-RGBNIR_step_{d}_n_pins_{n}_mesh.csv'\n",
    "\n",
    "# df = pd.read_csv(filename)\n",
    "\n",
    "# # Assuming df.iloc[:, 1] and df.iloc[:, 2] are your lists\n",
    "# column1 = df.iloc[:, 1].apply(ast.literal_eval)\n",
    "# column2 = df.iloc[:, 2].apply(ast.literal_eval)\n",
    "\n",
    "# clm_1 = column1.copy()\n",
    "# clm_2 = column2.copy()\n",
    "\n",
    "# # Combine the two lists\n",
    "# new_order = np.random.permutation(len(clm_1[0]))\n",
    "    \n",
    "# for i in range(len(column1)):\n",
    "#     clm_1[i] = [column1[i][j] for j in new_order]\n",
    "#     clm_2[i] = [column2[i][j] for j in new_order]\n",
    "#     # combined_lists = zip(clm_1, clm_2)\n",
    "#     # # Unzip the shuffled lists\n",
    "#     # shuffled_column1, shuffled_column2 = zip(*combined_lists)\n",
    "#     # clm_1[i], clm_2[i] = shuffled_column1, shuffled_column2\n",
    "\n",
    "# # clm_1[0], clm_2[0], column1[0], column2[0]\n",
    "# df_new = df.copy()\n",
    "# df_new.iloc[:,1] = clm_1\n",
    "# df_new.iloc[:,2] = clm_2\n",
    "# df_new.head()\n",
    "\n",
    "# filename_new = f'./latest/Building_1000_PS-RGBNIR_step_{d}_n_pins_{n}_mesh.csv'\n",
    "# df_new.to_csv(filename_new, index=False)"
   ]
  },
  {
   "cell_type": "code",
   "execution_count": null,
   "id": "f125f849-f289-4e3c-8c18-f6979c8bdc43",
   "metadata": {
    "tags": []
   },
   "outputs": [],
   "source": [
    "column1[2], column2[2], clm_1[2], clm_2[2]"
   ]
  },
  {
   "cell_type": "code",
   "execution_count": null,
   "id": "6a08bd85-cc92-47e1-b9cc-5f8f28fe1c59",
   "metadata": {
    "tags": []
   },
   "outputs": [],
   "source": [
    "df.head()"
   ]
  },
  {
   "cell_type": "markdown",
   "id": "eb83cc66-7b1d-4336-973b-4dff0d95cf77",
   "metadata": {},
   "source": [
    "Divide pins by n"
   ]
  },
  {
   "cell_type": "code",
   "execution_count": null,
   "id": "6583a544-e3aa-41c1-85f4-d346ca4e6714",
   "metadata": {
    "tags": []
   },
   "outputs": [],
   "source": [
    "# import ast\n",
    "# import pandas as pd\n",
    "# import os\n",
    "\n",
    "# n=225\n",
    "# d=63\n",
    "\n",
    "# def extract_file_name(path):\n",
    "#     return os.path.basename(path)\n",
    "# # def resize_pins(path_to_csv):\n",
    "# # Read the CSV file into a DataFrame\n",
    "# df = pd.read_csv(f'building_1000_PS-RGBNIR_step_{d}_n_pins_{225}_mesh.csv')\n",
    "\n",
    "# # Display the first few rows of the DataFrame\n",
    "# df = df.drop(df.columns[0], axis=1)\n",
    "\n",
    "# df.iloc[:, 0] = df.iloc[:, 0].apply(extract_file_name)\n",
    "\n",
    "# df.iloc[:, 1] = df.iloc[:, 1].apply(ast.literal_eval)\n",
    "\n",
    "# # Define a function to divide each number in the tuples by n\n",
    "# def divide_tuples(tuples_list, divider):\n",
    "#     return [(int(x//divider), int(y//divider)) for x, y in tuples_list]\n",
    "\n",
    "# # Apply the function to each element in the list of tuples\n",
    "# divider = 9  # Define your value of n\n",
    "# df.iloc[:, 1] = df.iloc[:, 1].apply(divide_tuples, divider=divider)\n",
    "\n",
    "# # Define the new column names\n",
    "# new_column_names = {'0': 'image', '1': 'pins', '2': 'outputs'}\n",
    "\n",
    "# # Rename the first three column headers\n",
    "# df = df.rename(columns=new_column_names)\n",
    "# df.head()\n",
    "# # Write the updated DataFrame back to a new CSV file\n",
    "# df.to_csv(f'Processed/Building_1000_PS-RGBNIR_step_{d}_n_pins_{n}_mesh.csv', index=False)"
   ]
  },
  {
   "cell_type": "code",
   "execution_count": 2,
   "id": "3aa64014",
   "metadata": {
    "ExecuteTime": {
     "end_time": "2024-02-23T17:42:52.757793Z",
     "start_time": "2024-02-23T17:42:52.753981Z"
    }
   },
   "outputs": [],
   "source": [
    "def create_meshgrid(gdf_, step=10, kw='geometry', plot=True):\n",
    "    \"\"\"\n",
    "    Create a meshgrid of coordinates based on the bounds of a geodataframe\n",
    "    Args:\n",
    "        gdf_: geopandas dataframe\n",
    "        step: int\n",
    "        kw: str\n",
    "        plot: bool\n",
    "    Returns: list of tuples of coordinates (x, y) of type float\n",
    "    \"\"\"\n",
    "    \n",
    "    # Define the dimensions\n",
    "    xmax, ymax = 899, 899\n",
    "\n",
    "    # Create meshgrid\n",
    "    xx, yy = np.meshgrid(np.arange(0, xmax, step), \n",
    "                         np.arange(0, ymax, step))\n",
    "\n",
    "    # Flatten and collect x and y coordinates\n",
    "    x = [z for x in xx for z in x]\n",
    "    y = [z for x in yy for z in x]\n",
    "\n",
    "    # Combine x and y coordinates into tuples\n",
    "    coordinates = list(zip(x, y))\n",
    "\n",
    "    # Shuffle the coordinates\n",
    "    np.random.shuffle(coordinates)\n",
    "\n",
    "    if plot:\n",
    "        plt.plot(xx.flat, yy.flat, \".\")\n",
    "        plt.show()\n",
    "\n",
    "    return coordinates"
   ]
  },
  {
   "cell_type": "code",
   "execution_count": 3,
   "id": "854bdcae46cea52",
   "metadata": {
    "ExecuteTime": {
     "end_time": "2024-02-23T17:42:53.124743Z",
     "start_time": "2024-02-23T17:42:53.121379Z"
    },
    "collapsed": false,
    "jupyter": {
     "outputs_hidden": false
    }
   },
   "outputs": [],
   "source": [
    "def create_random_grid(gdf_, n_points, kw='geometry', plot=True):\n",
    "    \"\"\"\n",
    "    Create a random grid of coordinates based on the bounds of a geodataframe\n",
    "    Args:\n",
    "        gdf_: geopandas dataframe\n",
    "        n_points: int\n",
    "        kw: str\n",
    "        plot: bool\n",
    "    Returns: list of tuples of coordinates (x, y) of type float\n",
    "    \"\"\"\n",
    "    # xmax = max(max([(poly.bounds[0], poly.bounds[2]) for poly in gdf_[kw]]))\n",
    "    # ymax = max(max([(poly.bounds[1], poly.bounds[3]) for poly in gdf_[kw]]))\n",
    "    xmax, ymax = 899, 899\n",
    "    x = [random.uniform(0, xmax) for _ in range(n_points)]\n",
    "    y = [random.uniform(0, ymax) for _ in range(n_points)]\n",
    "    if plot:\n",
    "        plt.plot(x, y, \".\")\n",
    "        plt.show()\n",
    "    return list(zip(x, y))"
   ]
  },
  {
   "cell_type": "code",
   "execution_count": 4,
   "id": "8cd73e67ef689480",
   "metadata": {
    "ExecuteTime": {
     "end_time": "2024-02-23T17:42:55.592240Z",
     "start_time": "2024-02-23T17:42:55.587481Z"
    },
    "collapsed": false,
    "jupyter": {
     "outputs_hidden": false
    }
   },
   "outputs": [],
   "source": [
    "def generate_pin_counts(data_list, rad=20, step=100, n_pins=100, stop=6, kw='geometry', off=(20, 20), gridtype=\"random\", plot=True):\n",
    "    \"\"\"\n",
    "    Generate random pins (x, y) and count of buildings \n",
    "    in a given list of geojsons\n",
    "    Args:\n",
    "        data_list: list of tuples of strings\n",
    "        rad: int\n",
    "        step: int\n",
    "        stop: int\n",
    "        kw: str\n",
    "        off: tuple of ints\n",
    "        plot: bool\n",
    "    Returns: list of lists of strings and lists of tuples of floats and ints\n",
    "    \"\"\"\n",
    "    out_ = []\n",
    "    N = 0\n",
    "    print(f\"Using {gridtype} grid\")\n",
    "    for rastr, geojs in data_list:\n",
    "        gdf_ = scale_and_translate((rastr, geojs), plot=plot)\n",
    "        if gridtype == \"random\":\n",
    "            grid = create_random_grid(gdf_, n_pins, plot=plot)\n",
    "        elif gridtype == \"mesh\":           \n",
    "            grid = create_meshgrid(gdf_, step=step, kw=kw, plot=plot)\n",
    "        circs = [Polygon(circle_coords_fn(circ_coors[0], circ_coors[1], rad, step, offset=off)) for circ_coors in grid]\n",
    "        if plot: plot_gdf_circle(gdf_, circs, multicircs=True, kw=kw)\n",
    "        \n",
    "        cg = list(zip(circs, grid))\n",
    "        lst = [((g[0], g[1]), len(geopandas.sjoin(geopandas.GeoDataFrame(index=[0], crs='epsg:32631', geometry=[c]), gdf_))) for c,g in cg]\n",
    "        out_.append([os.path.basename(rastr), [loc for loc, _ in lst], [cnt for _, cnt in lst]])\n",
    "        N += 1\n",
    "\n",
    "        if N%100==0:\n",
    "            print(f\"{N} of {len(data_list)}\")\n",
    "        if N >= stop:\n",
    "            break\n",
    "    return out_"
   ]
  },
  {
   "cell_type": "markdown",
   "id": "616e7a8f414df2c6",
   "metadata": {},
   "source": [
    "# Main"
   ]
  },
  {
   "cell_type": "code",
   "execution_count": 5,
   "id": "731a7420f2b378bf",
   "metadata": {
    "ExecuteTime": {
     "end_time": "2024-02-23T18:30:47.799123Z",
     "start_time": "2024-02-23T18:30:47.797211Z"
    },
    "collapsed": false,
    "jupyter": {
     "outputs_hidden": false
    }
   },
   "outputs": [],
   "source": [
    "# change datapath here\n",
    "# sample_size = 1000\n",
    "KW = 'PS-RGBNIR'\n",
    "data = \"../data/Building\""
   ]
  },
  {
   "cell_type": "code",
   "execution_count": 9,
   "id": "992aa5a1",
   "metadata": {
    "ExecuteTime": {
     "end_time": "2024-02-23T18:30:48.578829Z",
     "start_time": "2024-02-23T18:30:48.576309Z"
    }
   },
   "outputs": [
    {
     "name": "stdout",
     "output_type": "stream",
     "text": [
      "../data/Building/PS-RGBNIR/*.tif ../data/Building/geojson_buildings/*.geojson\n"
     ]
    }
   ],
   "source": [
    "# if os.path.exists(f\"{os.path.join(data, 'processed', KW)}\"):\n",
    "#     print(\"processed directory already exists\")\n",
    "#     tifs_pth = f\"{os.path.join(data, 'processed' , KW)}/*.tif\"\n",
    "# else:\n",
    "#     tifs_pth = f\"{os.path.join(data, KW)}/*.tif\"\n",
    "tifs_pth = f\"{os.path.join(data, KW)}/*.tif\"\n",
    "\n",
    "geojsons_pth =f\"{os.path.join(data, 'geojson_buildings')}/*.geojson\"\n",
    "print(tifs_pth, geojsons_pth)"
   ]
  },
  {
   "cell_type": "code",
   "execution_count": 10,
   "id": "dbfac803b8bcea30",
   "metadata": {
    "ExecuteTime": {
     "end_time": "2024-02-23T18:30:56.615104Z",
     "start_time": "2024-02-23T18:30:49.136302Z"
    },
    "collapsed": false,
    "jupyter": {
     "outputs_hidden": false
    }
   },
   "outputs": [],
   "source": [
    "geojsons_pth =f\"{os.path.join(data, 'geojson_buildings')}/*.geojson\"\n",
    "# print(f\"total number of clean data:{len(remove_empty_geojsons(get_data(tifs_pth, geojsons_pth)))}\")\n",
    "# print(f\"total number of data:{len(get_data(tifs_pth, geojsons_pth))}\")\n",
    "# uncomment the line if you want first sample_size images\n",
    "# datas = remove_empty_geojsons(get_data(tifs_pth, geojsons_pth)[:sample_size])\n",
    "#full dataset\n",
    "datas = remove_empty_geojsons(get_data(tifs_pth, geojsons_pth))"
   ]
  },
  {
   "cell_type": "code",
   "execution_count": 11,
   "id": "3b896826-8918-41e7-a3b4-711cf2d83cc8",
   "metadata": {},
   "outputs": [
    {
     "data": {
      "text/plain": [
       "1697"
      ]
     },
     "execution_count": 11,
     "metadata": {},
     "output_type": "execute_result"
    }
   ],
   "source": [
    "len(datas)"
   ]
  },
  {
   "cell_type": "code",
   "execution_count": null,
   "id": "b3f085324a92e841",
   "metadata": {
    "ExecuteTime": {
     "end_time": "2024-02-23T18:30:56.619079Z",
     "start_time": "2024-02-23T18:30:56.616180Z"
    },
    "collapsed": false,
    "jupyter": {
     "outputs_hidden": false
    }
   },
   "outputs": [],
   "source": [
    "# copy tifs from AOI_11_Rotterdam to AOI_11_Rotterdam/processed/kw\n",
    "if not os.path.exists(f\"{os.path.join(data, 'processed', KW)}\"):\n",
    "    for tif, _ in datas:\n",
    "        fname = os.path.basename(tif)\n",
    "        save_dir = os.path.split(os.path.dirname(tif))[0]\n",
    "        if not os.path.exists(f'{save_dir}/processed/{KW}'):\n",
    "            os.makedirs(f'{save_dir}/processed/{KW}')\n",
    "        output_file = f'{save_dir}/processed/{KW}/{fname}'\n",
    "        if os.path.exists(output_file):\n",
    "            print(f'{output_file} already exists')\n",
    "            continue\n",
    "        os.system(f'cp {tif} {output_file}')\n",
    "else:\n",
    "    print(\"tifs already copied\")"
   ]
  },
  {
   "cell_type": "code",
   "execution_count": null,
   "id": "aa04f77cf6c6c2f6",
   "metadata": {
    "ExecuteTime": {
     "end_time": "2024-02-23T18:30:59.501912Z",
     "start_time": "2024-02-23T18:30:58.458271Z"
    },
    "collapsed": false,
    "jupyter": {
     "outputs_hidden": false
    }
   },
   "outputs": [],
   "source": [
    "# cropped = crop_tifs_to_geojsons(datas, KW, 'tr2_geometry', overwrite=True)\n",
    "# masked = mask_and_rotate_data(cropped, KW, rotate=True, overwrite=True)\n",
    "# plot samples\n",
    "procs = glob.glob(f'../data/AOI_11_Rotterdam/processed/{KW}/*.tif')[:10]\n",
    "for i, _ in enumerate(procs):\n",
    "    src = rio.open(procs[i])\n",
    "    plot_sat(procs[i])"
   ]
  },
  {
   "cell_type": "code",
   "execution_count": null,
   "id": "fbaf436e90ae0006",
   "metadata": {
    "ExecuteTime": {
     "end_time": "2024-02-23T18:30:59.572093Z",
     "start_time": "2024-02-23T18:30:59.502914Z"
    },
    "collapsed": false,
    "jupyter": {
     "outputs_hidden": false
    }
   },
   "outputs": [],
   "source": [
    "# an example of how to use the circle_coords_fn function to create a meshgrid of pins\n",
    "# testgdf = scale_and_translate(datas[0], plot=False)\n",
    "# circle_coords = create_meshgrid(testgdf, step=50, kw='geometry')\n",
    "# circ = [Polygon(circle_coords_fn(circ_coors[0], circ_coors[1], 1, 100, offset=(0,0))) for circ_coors in circle_coords]"
   ]
  },
  {
   "cell_type": "code",
   "execution_count": null,
   "id": "9632e40c600e90ad",
   "metadata": {
    "ExecuteTime": {
     "end_time": "2024-02-23T18:31:01.104366Z",
     "start_time": "2024-02-23T18:31:01.043798Z"
    },
    "collapsed": false,
    "jupyter": {
     "outputs_hidden": false
    }
   },
   "outputs": [],
   "source": [
    "# plot random grid\n",
    "# pangrid = random_coords = create_random_grid(testgdf, 100, kw='geometry', plot=True)\n",
    "# save_array(pangrid, 'pangrid.npy', overwrite=False)"
   ]
  },
  {
   "cell_type": "code",
   "execution_count": 14,
   "id": "e40c5500-5f97-4c67-bbac-e6278bf771e8",
   "metadata": {},
   "outputs": [
    {
     "data": {
      "text/plain": [
       "63.63961030678928"
      ]
     },
     "execution_count": 14,
     "metadata": {},
     "output_type": "execute_result"
    }
   ],
   "source": [
    "math.sqrt(900**2//200)"
   ]
  },
  {
   "cell_type": "code",
   "execution_count": 15,
   "id": "2a539ddf-ec65-49a1-b0fc-405409240393",
   "metadata": {},
   "outputs": [
    {
     "name": "stdout",
     "output_type": "stream",
     "text": [
      "Using mesh grid\n",
      "100 of 1697\n",
      "200 of 1697\n",
      "300 of 1697\n",
      "400 of 1697\n",
      "500 of 1697\n",
      "600 of 1697\n",
      "700 of 1697\n",
      "800 of 1697\n",
      "900 of 1697\n",
      "1000 of 1697\n",
      "1100 of 1697\n",
      "1200 of 1697\n",
      "1300 of 1697\n",
      "1400 of 1697\n",
      "1500 of 1697\n",
      "1600 of 1697\n",
      "4\n"
     ]
    }
   ],
   "source": [
    "# n_pins_list = [10, 100, 1000]\n",
    "step_list = [500]#[288, 90, 27]\n",
    "\n",
    "for step in step_list:\n",
    "    out = generate_pin_counts(datas, rad=30, step=step, stop=len(datas), kw='geometry', off=(0, 0), gridtype=\"mesh\", plot=False)\n",
    "    # pd.DataFrame(out).to_csv(f'building_{sample_size}_{KW}_{step}_{len(out[0][2])}_mesh.csv')\n",
    "    pd.DataFrame(out).to_csv(f'building_full.csv', index=False)\n",
    "    print(len(out[0][2]))"
   ]
  },
  {
   "cell_type": "code",
   "execution_count": 19,
   "id": "91806281-f2c2-4b81-b891-f0d01e5aad59",
   "metadata": {},
   "outputs": [],
   "source": [
    "pd.DataFrame(out).to_csv(f'building_full.csv', index=False)"
   ]
  },
  {
   "cell_type": "code",
   "execution_count": null,
   "id": "2e864d389c9aaa66",
   "metadata": {
    "ExecuteTime": {
     "end_time": "2024-02-23T18:31:02.198581Z",
     "start_time": "2024-02-23T18:31:02.139690Z"
    },
    "collapsed": false,
    "jupyter": {
     "outputs_hidden": false
    }
   },
   "outputs": [],
   "source": [
    "# n_pins_list = [10, 100, 1000]\n",
    "# testgdf = scale_and_translate(datas[0], plot=False)\n",
    "# for n_pins in n_pins_list:\n",
    "#     psrgbnir_grid = create_random_grid(testgdf, n_pins, kw='geometry', plot=True)\n",
    "#     save_array(psrgbnir_grid, f'psrgbnir_grid_{n_pins}.npy', overwrite=True)\n",
    "\n",
    "#     start = time.time()\n",
    "#     step = 200\n",
    "#     out = generate_pin_counts(datas, rad=30, n_pins=n_pins, stop=len(datas), kw='geometry', off=(0, 0), gridtype=\"psrgb\", plot=False)\n",
    "#     pd.DataFrame(out).to_csv(f'building_{KW}_{n_pins}_random.csv')\n",
    "#     print(f\"--- {time.time() - start} seconds ---\")\n",
    "#     print(len(out[0][2]))"
   ]
  },
  {
   "cell_type": "code",
   "execution_count": null,
   "id": "5f9c75f8-127d-4267-a6b9-7acf0b27f78a",
   "metadata": {},
   "outputs": [],
   "source": [
    "len(out[0][2])"
   ]
  },
  {
   "cell_type": "code",
   "execution_count": null,
   "id": "5fd3cbcc",
   "metadata": {
    "ExecuteTime": {
     "end_time": "2024-02-23T18:45:25.192420Z",
     "start_time": "2024-02-23T18:45:25.186493Z"
    },
    "tags": []
   },
   "outputs": [],
   "source": [
    "# max buildings intersected by a pin in each output array\n",
    "[max(out[i][2]) for i in range(len(out))][:20]"
   ]
  },
  {
   "cell_type": "code",
   "execution_count": null,
   "id": "6e761d3d",
   "metadata": {
    "ExecuteTime": {
     "end_time": "2024-02-23T18:45:26.286671Z",
     "start_time": "2024-02-23T18:45:26.256869Z"
    }
   },
   "outputs": [],
   "source": [
    "# non-zero array indices for each output array\n",
    "# confirms that pins are intersecting buildings\n",
    "[np.nonzero(out[i][2]) for i in range(len(out))][:20]"
   ]
  }
 ],
 "metadata": {
  "kernelspec": {
   "display_name": "pycox",
   "language": "python",
   "name": "pycox"
  },
  "language_info": {
   "codemirror_mode": {
    "name": "ipython",
    "version": 3
   },
   "file_extension": ".py",
   "mimetype": "text/x-python",
   "name": "python",
   "nbconvert_exporter": "python",
   "pygments_lexer": "ipython3",
   "version": "3.8.17"
  }
 },
 "nbformat": 4,
 "nbformat_minor": 5
}
