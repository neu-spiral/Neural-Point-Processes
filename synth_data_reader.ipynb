{
 "cells": [
  {
   "cell_type": "code",
   "execution_count": 1,
   "id": "9063deff-6286-44eb-97a9-5e9481a4a18c",
   "metadata": {},
   "outputs": [
    {
     "name": "stderr",
     "output_type": "stream",
     "text": [
      "/home/ozcan.g/.conda/envs/satellite_gpu_env/lib/python3.10/site-packages/tqdm/auto.py:21: TqdmWarning: IProgress not found. Please update jupyter and ipywidgets. See https://ipywidgets.readthedocs.io/en/stable/user_install.html\n",
      "  from .autonotebook import tqdm as notebook_tqdm\n"
     ]
    }
   ],
   "source": [
    "import os\n",
    "import torch\n",
    "import pandas as pd\n",
    "from skimage import io, transform\n",
    "import numpy as np\n",
    "import matplotlib.pyplot as plt\n",
    "from torch.utils.data import Dataset, DataLoader\n",
    "from torchvision import transforms, utils\n",
    "from tools.data_utils import PinDataset, ToTensor, Resize\n",
    "from PIL import Image"
   ]
  },
  {
   "cell_type": "code",
   "execution_count": 2,
   "id": "4d95912f-15ca-482d-8696-04e43d3f66cd",
   "metadata": {},
   "outputs": [],
   "source": [
    "data_folder = f\"./data/Synthetic/28by28pixels_10images_123456seed\"\n",
    "d1 = 28\n",
    "d2 = 28\n",
    "pin_folder = f\"{data_folder}/mesh_10step_pins\"\n",
    "image_folder = f\"{data_folder}/images/\""
   ]
  },
  {
   "cell_type": "code",
   "execution_count": 3,
   "id": "b7112545-2c4a-4ea8-9be6-0227bd5835d6",
   "metadata": {},
   "outputs": [
    {
     "data": {
      "text/html": [
       "<div>\n",
       "<style scoped>\n",
       "    .dataframe tbody tr th:only-of-type {\n",
       "        vertical-align: middle;\n",
       "    }\n",
       "\n",
       "    .dataframe tbody tr th {\n",
       "        vertical-align: top;\n",
       "    }\n",
       "\n",
       "    .dataframe thead th {\n",
       "        text-align: right;\n",
       "    }\n",
       "</style>\n",
       "<table border=\"1\" class=\"dataframe\">\n",
       "  <thead>\n",
       "    <tr style=\"text-align: right;\">\n",
       "      <th></th>\n",
       "      <th>image</th>\n",
       "      <th>pins</th>\n",
       "      <th>outputs</th>\n",
       "    </tr>\n",
       "  </thead>\n",
       "  <tbody>\n",
       "    <tr>\n",
       "      <th>0</th>\n",
       "      <td>0.png</td>\n",
       "      <td>[(10, 10), (0, 20), (20, 10), (20, 0), (0, 10)...</td>\n",
       "      <td>[6.098613533844307, 2.3027954428213175, -6.881...</td>\n",
       "    </tr>\n",
       "    <tr>\n",
       "      <th>1</th>\n",
       "      <td>1.png</td>\n",
       "      <td>[(0, 20), (20, 0), (10, 10), (10, 0), (0, 0), ...</td>\n",
       "      <td>[-2.1219218622971954, 10.23563779697513, 4.597...</td>\n",
       "    </tr>\n",
       "    <tr>\n",
       "      <th>2</th>\n",
       "      <td>2.png</td>\n",
       "      <td>[(10, 0), (0, 20), (0, 10), (20, 0), (10, 20),...</td>\n",
       "      <td>[7.767955712981963, 2.6261241699093545, -3.520...</td>\n",
       "    </tr>\n",
       "    <tr>\n",
       "      <th>3</th>\n",
       "      <td>3.png</td>\n",
       "      <td>[(20, 20), (20, 10), (0, 20), (0, 0), (10, 10)...</td>\n",
       "      <td>[3.336112098347699, -6.337185272706277, 0.5354...</td>\n",
       "    </tr>\n",
       "    <tr>\n",
       "      <th>4</th>\n",
       "      <td>4.png</td>\n",
       "      <td>[(0, 0), (10, 10), (20, 0), (20, 20), (10, 20)...</td>\n",
       "      <td>[9.051104146636956, 5.516287328155483, 9.05007...</td>\n",
       "    </tr>\n",
       "    <tr>\n",
       "      <th>5</th>\n",
       "      <td>5.png</td>\n",
       "      <td>[(10, 0), (0, 0), (20, 10), (0, 10), (10, 10),...</td>\n",
       "      <td>[9.803678880955262, 9.803554232899053, -8.1780...</td>\n",
       "    </tr>\n",
       "    <tr>\n",
       "      <th>6</th>\n",
       "      <td>6.png</td>\n",
       "      <td>[(20, 20), (0, 20), (10, 20), (0, 0), (0, 10),...</td>\n",
       "      <td>[4.313570195687096, 1.5123190268209705, 3.5649...</td>\n",
       "    </tr>\n",
       "    <tr>\n",
       "      <th>7</th>\n",
       "      <td>7.png</td>\n",
       "      <td>[(20, 10), (0, 10), (10, 20), (0, 0), (20, 0),...</td>\n",
       "      <td>[-7.41874300232275, -3.718950838979743, 1.0635...</td>\n",
       "    </tr>\n",
       "    <tr>\n",
       "      <th>8</th>\n",
       "      <td>8.png</td>\n",
       "      <td>[(20, 10), (10, 0), (20, 0), (10, 20), (20, 20...</td>\n",
       "      <td>[-5.823787267350181, 10.064181179225708, 10.06...</td>\n",
       "    </tr>\n",
       "    <tr>\n",
       "      <th>9</th>\n",
       "      <td>9.png</td>\n",
       "      <td>[(10, 10), (0, 20), (10, 20), (20, 10), (20, 2...</td>\n",
       "      <td>[2.9751365856200187, -1.1840308288681842, 0.86...</td>\n",
       "    </tr>\n",
       "  </tbody>\n",
       "</table>\n",
       "</div>"
      ],
      "text/plain": [
       "   image                                               pins  \\\n",
       "0  0.png  [(10, 10), (0, 20), (20, 10), (20, 0), (0, 10)...   \n",
       "1  1.png  [(0, 20), (20, 0), (10, 10), (10, 0), (0, 0), ...   \n",
       "2  2.png  [(10, 0), (0, 20), (0, 10), (20, 0), (10, 20),...   \n",
       "3  3.png  [(20, 20), (20, 10), (0, 20), (0, 0), (10, 10)...   \n",
       "4  4.png  [(0, 0), (10, 10), (20, 0), (20, 20), (10, 20)...   \n",
       "5  5.png  [(10, 0), (0, 0), (20, 10), (0, 10), (10, 10),...   \n",
       "6  6.png  [(20, 20), (0, 20), (10, 20), (0, 0), (0, 10),...   \n",
       "7  7.png  [(20, 10), (0, 10), (10, 20), (0, 0), (20, 0),...   \n",
       "8  8.png  [(20, 10), (10, 0), (20, 0), (10, 20), (20, 20...   \n",
       "9  9.png  [(10, 10), (0, 20), (10, 20), (20, 10), (20, 2...   \n",
       "\n",
       "                                             outputs  \n",
       "0  [6.098613533844307, 2.3027954428213175, -6.881...  \n",
       "1  [-2.1219218622971954, 10.23563779697513, 4.597...  \n",
       "2  [7.767955712981963, 2.6261241699093545, -3.520...  \n",
       "3  [3.336112098347699, -6.337185272706277, 0.5354...  \n",
       "4  [9.051104146636956, 5.516287328155483, 9.05007...  \n",
       "5  [9.803678880955262, 9.803554232899053, -8.1780...  \n",
       "6  [4.313570195687096, 1.5123190268209705, 3.5649...  \n",
       "7  [-7.41874300232275, -3.718950838979743, 1.0635...  \n",
       "8  [-5.823787267350181, 10.064181179225708, 10.06...  \n",
       "9  [2.9751365856200187, -1.1840308288681842, 0.86...  "
      ]
     },
     "execution_count": 3,
     "metadata": {},
     "output_type": "execute_result"
    }
   ],
   "source": [
    "pins_file = f\"{pin_folder}/pins.csv\"\n",
    "pins_df = pd.read_csv(pins_file)\n",
    "pins_df"
   ]
  },
  {
   "cell_type": "code",
   "execution_count": 4,
   "id": "6b3bd5c4-e1dd-4a1c-8a28-affcb947e029",
   "metadata": {},
   "outputs": [],
   "source": [
    "# y_file = f\"{data_folder}/y.csv\"\n",
    "# out_df = pd.read_csv(y_file)\n",
    "# out_df"
   ]
  },
  {
   "cell_type": "code",
   "execution_count": 5,
   "id": "8003a968-3460-4c76-ab6c-a25323cce98b",
   "metadata": {
    "tags": []
   },
   "outputs": [
    {
     "data": {
      "text/plain": [
       "array([[10, 10],\n",
       "       [ 0, 20],\n",
       "       [20, 10],\n",
       "       [20,  0],\n",
       "       [ 0, 10],\n",
       "       [10, 20],\n",
       "       [20, 20],\n",
       "       [10,  0],\n",
       "       [ 0,  0]])"
      ]
     },
     "execution_count": 5,
     "metadata": {},
     "output_type": "execute_result"
    }
   ],
   "source": [
    "img_name = pins_df.iloc[0, 0]\n",
    "pins = eval(pins_df.iloc[0, 1])\n",
    "pins = np.asarray(pins)\n",
    "pins"
   ]
  },
  {
   "cell_type": "code",
   "execution_count": 6,
   "id": "0536396e-a582-4100-a710-e88e68479181",
   "metadata": {},
   "outputs": [
    {
     "data": {
      "text/plain": [
       "array([ 6.09861353,  2.30279544, -6.88135258,  9.80330666, -3.18161867,\n",
       "        4.35518523,  5.10318583,  9.80330661,  9.80330659])"
      ]
     },
     "execution_count": 6,
     "metadata": {},
     "output_type": "execute_result"
    }
   ],
   "source": [
    "outputs = eval(pins_df.iloc[0, 2])\n",
    "outputs = np.asarray(outputs)\n",
    "outputs"
   ]
  },
  {
   "cell_type": "code",
   "execution_count": 7,
   "id": "6953d1cb-9913-4469-bb48-49e5afe1d616",
   "metadata": {},
   "outputs": [
    {
     "data": {
      "text/plain": [
       "(539, 539, 4)"
      ]
     },
     "execution_count": 7,
     "metadata": {},
     "output_type": "execute_result"
    }
   ],
   "source": [
    "io.imread(f\"{data_folder}/images/{img_name}\").shape"
   ]
  },
  {
   "cell_type": "code",
   "execution_count": 14,
   "id": "44bcfd50-b8cf-4afe-ac14-6acb0259ce75",
   "metadata": {},
   "outputs": [],
   "source": [
    "def show_pins(image, pins, outputs):\n",
    "    \"\"\"Show image with pins\"\"\"\n",
    "    plt.imshow(image.permute(1, 2, 0), extent=[0,d1,0,d2])\n",
    "    plt.scatter(pins[:, 0], pins[:, 1], s=10, marker='.', c='r')\n",
    "    # plt.pause(0.001)  # pause a bit so that plots are updated\n",
    "    # there is a shift in the pins probably\n",
    "\n",
    "# plt.figure()\n",
    "# # show_pins(io.imread(f\"{data_folder}/images/{img_name}\"), pins, outputs)\n",
    "# show_pins(np.load(f\"{data_folder}/images/{img_name}\"), pins, outputs)\n",
    "# plt.show()"
   ]
  },
  {
   "cell_type": "code",
   "execution_count": 16,
   "id": "e979ef14-9df7-453f-b5a3-d12cec5495c5",
   "metadata": {},
   "outputs": [
    {
     "name": "stdout",
     "output_type": "stream",
     "text": [
      "0 torch.Size([4, 28, 28]) torch.Size([9, 2])\n",
      "1 torch.Size([4, 28, 28]) torch.Size([9, 2])\n",
      "2 torch.Size([4, 28, 28]) torch.Size([9, 2])\n",
      "3 torch.Size([4, 28, 28]) torch.Size([9, 2])\n"
     ]
    },
    {
     "data": {
      "image/png": "[encoded data removed]",
      "text/plain": [
       "<Figure size 640x480 with 4 Axes>"
      ]
     },
     "metadata": {},
     "output_type": "display_data"
    }
   ],
   "source": [
    "transform = transforms.Compose([\n",
    "    ToTensor(),  # Convert to tensor (as you were doing)\n",
    "    Resize()  # Resize to 100x100\n",
    "])\n",
    "\n",
    "heatmap_dataset = PinDataset(csv_file=f\"{pin_folder}/pins.csv\",\n",
    "                                 root_dir=image_folder,\n",
    "                                 transform=transform)\n",
    "\n",
    "# heatmap_dataset = SynthHeatmapDataset(csv_file=f\"{data_folder}/pins.csv\",\n",
    "#                                       root_dir=f\"{data_folder}/images/\")\n",
    "\n",
    "fig = plt.figure()\n",
    "\n",
    "for i, sample in enumerate(heatmap_dataset):\n",
    "    print(i, sample['image'].shape, sample['pins'].shape)\n",
    "\n",
    "    ax = plt.subplot(1, 4, i + 1)\n",
    "    plt.tight_layout()\n",
    "    ax.set_title('Sample #{}'.format(i))\n",
    "    ax.axis('off')\n",
    "    # image = sample['image']\n",
    "    # image = image.view(image.shape[1], image.shape[2], image.shape[0])\n",
    "    # show_pins(image, sample['pins'], sample['outputs'])\n",
    "    show_pins(**sample)\n",
    "    \n",
    "    if i == 3:\n",
    "        plt.show()\n",
    "        break"
   ]
  },
  {
   "cell_type": "code",
   "execution_count": 11,
   "id": "77fd4920-623e-44a5-b406-6a9d618772cb",
   "metadata": {},
   "outputs": [],
   "source": [
    "class ToTensor(object):\n",
    "    \"\"\"Convert ndarrays in sample to Tensors.\"\"\"\n",
    "\n",
    "    def __call__(self, sample):\n",
    "        image, pins, outputs = sample['image'], sample['pins'], sample['outputs']\n",
    "\n",
    "        # swap color axis because\n",
    "        # numpy image: H x W x C\n",
    "        # torch image: C x H x W\n",
    "        image = image.transpose((2, 0, 1))\n",
    "        return {'image': torch.from_numpy(image),\n",
    "                'pins': torch.from_numpy(pins),\n",
    "                'outputs': torch.from_numpy(outputs)}"
   ]
  },
  {
   "cell_type": "code",
   "execution_count": 18,
   "id": "55ac8057-519a-4c1f-98c7-d26e04277845",
   "metadata": {},
   "outputs": [
    {
     "name": "stdout",
     "output_type": "stream",
     "text": [
      "0 torch.Size([4, 28, 28]) torch.Size([9, 2]) torch.Size([9])\n",
      "1 torch.Size([4, 28, 28]) torch.Size([9, 2]) torch.Size([9])\n",
      "2 torch.Size([4, 28, 28]) torch.Size([9, 2]) torch.Size([9])\n",
      "3 torch.Size([4, 28, 28]) torch.Size([9, 2]) torch.Size([9])\n"
     ]
    }
   ],
   "source": [
    "transformed_dataset = PinDataset(csv_file=f\"{pin_folder}/pins.csv\",\n",
    "                                          root_dir=image_folder,\n",
    "                                          transform=transforms.Compose([ToTensor(), Resize()])\n",
    "                                         )\n",
    "\n",
    "for i, sample in enumerate(transformed_dataset):\n",
    "    print(i, sample['image'].size(), sample['pins'].size(), sample['outputs'].size())\n",
    "\n",
    "    if i == 3:\n",
    "        break"
   ]
  }
 ],
 "metadata": {
  "kernelspec": {
   "display_name": "Python 3 (ipykernel)",
   "language": "python",
   "name": "python3"
  },
  "language_info": {
   "codemirror_mode": {
    "name": "ipython",
    "version": 3
   },
   "file_extension": ".py",
   "mimetype": "text/x-python",
   "name": "python",
   "nbconvert_exporter": "python",
   "pygments_lexer": "ipython3",
   "version": "3.10.13"
  }
 },
 "nbformat": 4,
 "nbformat_minor": 5
}
